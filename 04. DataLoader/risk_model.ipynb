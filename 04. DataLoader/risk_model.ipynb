{
 "cells": [
  {
   "cell_type": "code",
   "execution_count": 185,
   "metadata": {},
   "outputs": [],
   "source": [
    "import time\n",
    "import pandas as pd \n",
    "import numpy as np \n",
    "import matplotlib.pyplot as plt\n",
    "from sklearn.utils import resample\n",
    "from sklearn.model_selection import train_test_split\n",
    "from sklearn.metrics import accuracy_score, plot_confusion_matrix, balanced_accuracy_score, confusion_matrix,roc_curve,auc, roc_auc_score\n",
    "from sklearn.preprocessing import StandardScaler\n",
    "from sklearn.svm import SVC\n",
    "from sklearn.tree          import DecisionTreeClassifier\n",
    "from sklearn.ensemble      import RandomForestClassifier\n",
    "from sklearn.ensemble      import ExtraTreesClassifier\n",
    "from sklearn.ensemble      import AdaBoostClassifier\n",
    "from sklearn.ensemble      import GradientBoostingClassifier\n",
    "from sklearn.experimental  import enable_hist_gradient_boosting # Necesary for HistGradientBoostingClassifier\n",
    "from sklearn.ensemble      import HistGradientBoostingClassifier\n",
    "from xgboost               import XGBClassifier\n",
    "from lightgbm              import LGBMClassifier\n",
    "from catboost              import CatBoostClassifier\n",
    "from sklearn.linear_model import LogisticRegression\n",
    "from sklearn import pipeline, compose, impute\n",
    "from sklearn.decomposition import PCA"
   ]
  },
  {
   "cell_type": "code",
   "execution_count": 186,
   "metadata": {},
   "outputs": [
    {
     "data": {
      "text/html": [
       "<div>\n",
       "<style scoped>\n",
       "    .dataframe tbody tr th:only-of-type {\n",
       "        vertical-align: middle;\n",
       "    }\n",
       "\n",
       "    .dataframe tbody tr th {\n",
       "        vertical-align: top;\n",
       "    }\n",
       "\n",
       "    .dataframe thead th {\n",
       "        text-align: right;\n",
       "    }\n",
       "</style>\n",
       "<table border=\"1\" class=\"dataframe\">\n",
       "  <thead>\n",
       "    <tr style=\"text-align: right;\">\n",
       "      <th></th>\n",
       "      <th>customer_id</th>\n",
       "      <th>reporting_date</th>\n",
       "      <th>default_moment</th>\n",
       "      <th>intodefault</th>\n",
       "      <th>mrating</th>\n",
       "      <th>PD</th>\n",
       "    </tr>\n",
       "  </thead>\n",
       "  <tbody>\n",
       "    <tr>\n",
       "      <th>0</th>\n",
       "      <td>1</td>\n",
       "      <td>31.01.2010</td>\n",
       "      <td>30.09.2010</td>\n",
       "      <td>1</td>\n",
       "      <td>21</td>\n",
       "      <td>0.20</td>\n",
       "    </tr>\n",
       "    <tr>\n",
       "      <th>1</th>\n",
       "      <td>1</td>\n",
       "      <td>28.02.2010</td>\n",
       "      <td>30.09.2010</td>\n",
       "      <td>1</td>\n",
       "      <td>22</td>\n",
       "      <td>0.25</td>\n",
       "    </tr>\n",
       "    <tr>\n",
       "      <th>2</th>\n",
       "      <td>1</td>\n",
       "      <td>31.03.2010</td>\n",
       "      <td>30.09.2010</td>\n",
       "      <td>1</td>\n",
       "      <td>22</td>\n",
       "      <td>0.25</td>\n",
       "    </tr>\n",
       "    <tr>\n",
       "      <th>3</th>\n",
       "      <td>1</td>\n",
       "      <td>30.04.2010</td>\n",
       "      <td>30.09.2010</td>\n",
       "      <td>1</td>\n",
       "      <td>22</td>\n",
       "      <td>0.25</td>\n",
       "    </tr>\n",
       "    <tr>\n",
       "      <th>4</th>\n",
       "      <td>1</td>\n",
       "      <td>31.05.2010</td>\n",
       "      <td>30.09.2010</td>\n",
       "      <td>1</td>\n",
       "      <td>22</td>\n",
       "      <td>0.25</td>\n",
       "    </tr>\n",
       "    <tr>\n",
       "      <th>...</th>\n",
       "      <td>...</td>\n",
       "      <td>...</td>\n",
       "      <td>...</td>\n",
       "      <td>...</td>\n",
       "      <td>...</td>\n",
       "      <td>...</td>\n",
       "    </tr>\n",
       "    <tr>\n",
       "      <th>41674</th>\n",
       "      <td>2501</td>\n",
       "      <td>31.07.2011</td>\n",
       "      <td>NaN</td>\n",
       "      <td>0</td>\n",
       "      <td>17</td>\n",
       "      <td>0.06</td>\n",
       "    </tr>\n",
       "    <tr>\n",
       "      <th>41675</th>\n",
       "      <td>2501</td>\n",
       "      <td>31.08.2011</td>\n",
       "      <td>NaN</td>\n",
       "      <td>0</td>\n",
       "      <td>17</td>\n",
       "      <td>0.06</td>\n",
       "    </tr>\n",
       "    <tr>\n",
       "      <th>41676</th>\n",
       "      <td>2501</td>\n",
       "      <td>30.09.2011</td>\n",
       "      <td>NaN</td>\n",
       "      <td>0</td>\n",
       "      <td>17</td>\n",
       "      <td>0.06</td>\n",
       "    </tr>\n",
       "    <tr>\n",
       "      <th>41677</th>\n",
       "      <td>2501</td>\n",
       "      <td>31.10.2011</td>\n",
       "      <td>NaN</td>\n",
       "      <td>0</td>\n",
       "      <td>17</td>\n",
       "      <td>0.06</td>\n",
       "    </tr>\n",
       "    <tr>\n",
       "      <th>41678</th>\n",
       "      <td>2501</td>\n",
       "      <td>30.11.2011</td>\n",
       "      <td>NaN</td>\n",
       "      <td>0</td>\n",
       "      <td>17</td>\n",
       "      <td>0.06</td>\n",
       "    </tr>\n",
       "  </tbody>\n",
       "</table>\n",
       "<p>41679 rows × 6 columns</p>\n",
       "</div>"
      ],
      "text/plain": [
       "       customer_id reporting_date default_moment  intodefault  mrating    PD\n",
       "0                1     31.01.2010     30.09.2010            1       21  0.20\n",
       "1                1     28.02.2010     30.09.2010            1       22  0.25\n",
       "2                1     31.03.2010     30.09.2010            1       22  0.25\n",
       "3                1     30.04.2010     30.09.2010            1       22  0.25\n",
       "4                1     31.05.2010     30.09.2010            1       22  0.25\n",
       "...            ...            ...            ...          ...      ...   ...\n",
       "41674         2501     31.07.2011            NaN            0       17  0.06\n",
       "41675         2501     31.08.2011            NaN            0       17  0.06\n",
       "41676         2501     30.09.2011            NaN            0       17  0.06\n",
       "41677         2501     31.10.2011            NaN            0       17  0.06\n",
       "41678         2501     30.11.2011            NaN            0       17  0.06\n",
       "\n",
       "[41679 rows x 6 columns]"
      ]
     },
     "execution_count": 186,
     "metadata": {},
     "output_type": "execute_result"
    }
   ],
   "source": [
    "df = pd.read_table(\"./data/sample_data CRM2.CSV\", delimiter=';')\n",
    "df\n"
   ]
  },
  {
   "cell_type": "code",
   "execution_count": 187,
   "metadata": {},
   "outputs": [
    {
     "data": {
      "text/plain": [
       "customer_id           0\n",
       "reporting_date        0\n",
       "default_moment    31761\n",
       "intodefault           0\n",
       "mrating               0\n",
       "PD                    0\n",
       "dtype: int64"
      ]
     },
     "execution_count": 187,
     "metadata": {},
     "output_type": "execute_result"
    }
   ],
   "source": [
    "df.isnull().sum()"
   ]
  },
  {
   "cell_type": "code",
   "execution_count": 188,
   "metadata": {},
   "outputs": [
    {
     "data": {
      "text/plain": [
       "0    32576\n",
       "1     9103\n",
       "Name: intodefault, dtype: int64"
      ]
     },
     "execution_count": 188,
     "metadata": {},
     "output_type": "execute_result"
    }
   ],
   "source": [
    "df['intodefault'].value_counts()"
   ]
  },
  {
   "cell_type": "code",
   "execution_count": 189,
   "metadata": {},
   "outputs": [
    {
     "data": {
      "text/plain": [
       "0    32576\n",
       "1    29905\n",
       "Name: intodefault, dtype: int64"
      ]
     },
     "execution_count": 189,
     "metadata": {},
     "output_type": "execute_result"
    }
   ],
   "source": [
    "df_majority = df[df.intodefault==0]\n",
    "df_minority = df[df.intodefault==1]\n",
    " \n",
    "# Upsample minority class\n",
    "df_minority_upsampled = resample(df_minority, \n",
    "                                 replace=True,     # sample with replacement\n",
    "                                 n_samples=29905,    # to match majority class\n",
    "                                 random_state=123) # reproducible results\n",
    " \n",
    "\n",
    "df_upsampled = pd.concat([df_majority, df_minority_upsampled])\n",
    " \n",
    "# Display new class counts\n",
    "df_upsampled.intodefault.value_counts()"
   ]
  },
  {
   "cell_type": "code",
   "execution_count": 190,
   "metadata": {},
   "outputs": [],
   "source": [
    "X, y = df_upsampled[['mrating', 'PD']], df_upsampled['intodefault']"
   ]
  },
  {
   "cell_type": "code",
   "execution_count": 191,
   "metadata": {},
   "outputs": [
    {
     "data": {
      "text/plain": [
       "0    32576\n",
       "1    29905\n",
       "Name: intodefault, dtype: int64"
      ]
     },
     "execution_count": 191,
     "metadata": {},
     "output_type": "execute_result"
    }
   ],
   "source": [
    "y.value_counts()"
   ]
  },
  {
   "cell_type": "code",
   "execution_count": 192,
   "metadata": {},
   "outputs": [],
   "source": [
    "x_train, x_test, y_train, y_test = train_test_split(X, y, random_state=123, test_size=0.2)"
   ]
  },
  {
   "cell_type": "code",
   "execution_count": 193,
   "metadata": {},
   "outputs": [
    {
     "name": "stdout",
     "output_type": "stream",
     "text": [
      "(49984, 2)\n",
      "(12497, 2)\n"
     ]
    }
   ],
   "source": [
    "print(x_train.shape)\n",
    "print(x_test.shape)"
   ]
  },
  {
   "cell_type": "code",
   "execution_count": 194,
   "metadata": {},
   "outputs": [],
   "source": [
    "classifiers = {\n",
    "  \"Decision Tree\": DecisionTreeClassifier(),\n",
    "  \"Extra Trees\":   ExtraTreesClassifier(n_estimators=100),\n",
    "  \"Random Forest\": RandomForestClassifier(n_estimators=100),\n",
    "  \"AdaBoost\":      AdaBoostClassifier(n_estimators=100),\n",
    "  \"Skl GBM\":       GradientBoostingClassifier(n_estimators=100),\n",
    "  \"Skl HistGBM\":   HistGradientBoostingClassifier(max_iter=100),\n",
    "  \"XGBoost\":       XGBClassifier(n_estimators=100),\n",
    "  \"LightGBM\":      LGBMClassifier(n_estimators=100),\n",
    "  \"CatBoost\":      CatBoostClassifier(n_estimators=100),\n",
    "  \"Log_reg\":       LogisticRegression()\n",
    "}"
   ]
  },
  {
   "cell_type": "code",
   "execution_count": 195,
   "metadata": {},
   "outputs": [],
   "source": [
    "Models = pipeline.Pipeline(steps=[\n",
    "    ('imputer', impute.SimpleImputer(strategy='mean')),\n",
    "])"
   ]
  },
  {
   "cell_type": "code",
   "execution_count": 196,
   "metadata": {},
   "outputs": [],
   "source": [
    "tree_classifiers = {name: pipeline.make_pipeline(Models, model) for name, model in classifiers.items()}"
   ]
  },
  {
   "cell_type": "code",
   "execution_count": 197,
   "metadata": {},
   "outputs": [],
   "source": [
    "results = pd.DataFrame({'Model': [], 'Accuracy': [], 'Bal Acc.': [], 'Time': []})"
   ]
  },
  {
   "cell_type": "code",
   "execution_count": 198,
   "metadata": {},
   "outputs": [
    {
     "name": "stderr",
     "output_type": "stream",
     "text": [
      "C:\\Users\\asus\\AppData\\Local\\Temp\\ipykernel_16188\\3961301191.py:9: FutureWarning: The frame.append method is deprecated and will be removed from pandas in a future version. Use pandas.concat instead.\n",
      "  results = results.append({\"Model\":    model_name,\n",
      "C:\\Users\\asus\\AppData\\Local\\Temp\\ipykernel_16188\\3961301191.py:9: FutureWarning: The frame.append method is deprecated and will be removed from pandas in a future version. Use pandas.concat instead.\n",
      "  results = results.append({\"Model\":    model_name,\n",
      "C:\\Users\\asus\\AppData\\Local\\Temp\\ipykernel_16188\\3961301191.py:9: FutureWarning: The frame.append method is deprecated and will be removed from pandas in a future version. Use pandas.concat instead.\n",
      "  results = results.append({\"Model\":    model_name,\n",
      "C:\\Users\\asus\\AppData\\Local\\Temp\\ipykernel_16188\\3961301191.py:9: FutureWarning: The frame.append method is deprecated and will be removed from pandas in a future version. Use pandas.concat instead.\n",
      "  results = results.append({\"Model\":    model_name,\n",
      "C:\\Users\\asus\\AppData\\Local\\Temp\\ipykernel_16188\\3961301191.py:9: FutureWarning: The frame.append method is deprecated and will be removed from pandas in a future version. Use pandas.concat instead.\n",
      "  results = results.append({\"Model\":    model_name,\n",
      "C:\\Users\\asus\\AppData\\Local\\Temp\\ipykernel_16188\\3961301191.py:9: FutureWarning: The frame.append method is deprecated and will be removed from pandas in a future version. Use pandas.concat instead.\n",
      "  results = results.append({\"Model\":    model_name,\n",
      "c:\\Users\\asus\\anaconda3\\envs\\school\\lib\\site-packages\\xgboost\\sklearn.py:1224: UserWarning: The use of label encoder in XGBClassifier is deprecated and will be removed in a future release. To remove this warning, do the following: 1) Pass option use_label_encoder=False when constructing XGBClassifier object; and 2) Encode your labels (y) as integers starting with 0, i.e. 0, 1, 2, ..., [num_class - 1].\n",
      "  warnings.warn(label_encoder_deprecation_msg, UserWarning)\n",
      "c:\\Users\\asus\\anaconda3\\envs\\school\\lib\\site-packages\\xgboost\\data.py:250: FutureWarning: pandas.Int64Index is deprecated and will be removed from pandas in a future version. Use pandas.Index with the appropriate dtype instead.\n",
      "  elif isinstance(data.columns, (pd.Int64Index, pd.RangeIndex)):\n"
     ]
    },
    {
     "name": "stdout",
     "output_type": "stream",
     "text": [
      "[23:40:31] WARNING: ..\\src\\learner.cc:1115: Starting in XGBoost 1.3.0, the default evaluation metric used with the objective 'binary:logistic' was changed from 'error' to 'logloss'. Explicitly set eval_metric if you'd like to restore the old behavior.\n"
     ]
    },
    {
     "name": "stderr",
     "output_type": "stream",
     "text": [
      "C:\\Users\\asus\\AppData\\Local\\Temp\\ipykernel_16188\\3961301191.py:9: FutureWarning: The frame.append method is deprecated and will be removed from pandas in a future version. Use pandas.concat instead.\n",
      "  results = results.append({\"Model\":    model_name,\n",
      "C:\\Users\\asus\\AppData\\Local\\Temp\\ipykernel_16188\\3961301191.py:9: FutureWarning: The frame.append method is deprecated and will be removed from pandas in a future version. Use pandas.concat instead.\n",
      "  results = results.append({\"Model\":    model_name,\n"
     ]
    },
    {
     "name": "stdout",
     "output_type": "stream",
     "text": [
      "Learning rate set to 0.452204\n",
      "0:\tlearn: 0.6443012\ttotal: 13.8ms\tremaining: 1.36s\n",
      "1:\tlearn: 0.6277859\ttotal: 26.9ms\tremaining: 1.32s\n",
      "2:\tlearn: 0.6215021\ttotal: 40.2ms\tremaining: 1.3s\n",
      "3:\tlearn: 0.6195736\ttotal: 52.4ms\tremaining: 1.26s\n",
      "4:\tlearn: 0.6186803\ttotal: 67.6ms\tremaining: 1.28s\n",
      "5:\tlearn: 0.6183996\ttotal: 82.2ms\tremaining: 1.29s\n",
      "6:\tlearn: 0.6182994\ttotal: 92.6ms\tremaining: 1.23s\n",
      "7:\tlearn: 0.6181730\ttotal: 107ms\tremaining: 1.24s\n",
      "8:\tlearn: 0.6181418\ttotal: 122ms\tremaining: 1.24s\n",
      "9:\tlearn: 0.6181242\ttotal: 139ms\tremaining: 1.25s\n",
      "10:\tlearn: 0.6181067\ttotal: 155ms\tremaining: 1.25s\n",
      "11:\tlearn: 0.6181009\ttotal: 171ms\tremaining: 1.25s\n",
      "12:\tlearn: 0.6180982\ttotal: 185ms\tremaining: 1.24s\n",
      "13:\tlearn: 0.6180970\ttotal: 198ms\tremaining: 1.22s\n",
      "14:\tlearn: 0.6180916\ttotal: 217ms\tremaining: 1.23s\n",
      "15:\tlearn: 0.6180913\ttotal: 230ms\tremaining: 1.21s\n",
      "16:\tlearn: 0.6180912\ttotal: 239ms\tremaining: 1.17s\n",
      "17:\tlearn: 0.6180892\ttotal: 252ms\tremaining: 1.15s\n",
      "18:\tlearn: 0.6180892\ttotal: 265ms\tremaining: 1.13s\n",
      "19:\tlearn: 0.6180885\ttotal: 278ms\tremaining: 1.11s\n",
      "20:\tlearn: 0.6180824\ttotal: 291ms\tremaining: 1.09s\n",
      "21:\tlearn: 0.6180789\ttotal: 308ms\tremaining: 1.09s\n",
      "22:\tlearn: 0.6180788\ttotal: 318ms\tremaining: 1.06s\n",
      "23:\tlearn: 0.6180751\ttotal: 334ms\tremaining: 1.06s\n",
      "24:\tlearn: 0.6180733\ttotal: 349ms\tremaining: 1.05s\n",
      "25:\tlearn: 0.6180733\ttotal: 361ms\tremaining: 1.03s\n",
      "26:\tlearn: 0.6180731\ttotal: 372ms\tremaining: 1s\n",
      "27:\tlearn: 0.6180726\ttotal: 384ms\tremaining: 988ms\n",
      "28:\tlearn: 0.6180716\ttotal: 399ms\tremaining: 977ms\n",
      "29:\tlearn: 0.6180709\ttotal: 415ms\tremaining: 968ms\n",
      "30:\tlearn: 0.6180707\ttotal: 430ms\tremaining: 958ms\n",
      "31:\tlearn: 0.6180705\ttotal: 446ms\tremaining: 947ms\n",
      "32:\tlearn: 0.6180703\ttotal: 457ms\tremaining: 928ms\n",
      "33:\tlearn: 0.6180702\ttotal: 472ms\tremaining: 917ms\n",
      "34:\tlearn: 0.6180702\ttotal: 488ms\tremaining: 907ms\n",
      "35:\tlearn: 0.6180698\ttotal: 503ms\tremaining: 895ms\n",
      "36:\tlearn: 0.6180697\ttotal: 519ms\tremaining: 884ms\n",
      "37:\tlearn: 0.6180695\ttotal: 533ms\tremaining: 870ms\n",
      "38:\tlearn: 0.6180693\ttotal: 548ms\tremaining: 857ms\n",
      "39:\tlearn: 0.6180693\ttotal: 562ms\tremaining: 843ms\n",
      "40:\tlearn: 0.6180693\ttotal: 578ms\tremaining: 831ms\n",
      "41:\tlearn: 0.6180692\ttotal: 592ms\tremaining: 818ms\n",
      "42:\tlearn: 0.6180692\ttotal: 607ms\tremaining: 804ms\n",
      "43:\tlearn: 0.6180692\ttotal: 621ms\tremaining: 790ms\n",
      "44:\tlearn: 0.6180692\ttotal: 635ms\tremaining: 777ms\n",
      "45:\tlearn: 0.6180692\ttotal: 649ms\tremaining: 762ms\n",
      "46:\tlearn: 0.6180691\ttotal: 664ms\tremaining: 749ms\n",
      "47:\tlearn: 0.6180691\ttotal: 678ms\tremaining: 735ms\n",
      "48:\tlearn: 0.6180691\ttotal: 693ms\tremaining: 722ms\n",
      "49:\tlearn: 0.6180691\ttotal: 708ms\tremaining: 708ms\n",
      "50:\tlearn: 0.6180691\ttotal: 722ms\tremaining: 694ms\n",
      "51:\tlearn: 0.6180691\ttotal: 737ms\tremaining: 680ms\n",
      "52:\tlearn: 0.6180691\ttotal: 751ms\tremaining: 666ms\n",
      "53:\tlearn: 0.6180691\ttotal: 765ms\tremaining: 652ms\n",
      "54:\tlearn: 0.6180691\ttotal: 779ms\tremaining: 637ms\n",
      "55:\tlearn: 0.6180691\ttotal: 793ms\tremaining: 623ms\n",
      "56:\tlearn: 0.6180691\ttotal: 807ms\tremaining: 609ms\n",
      "57:\tlearn: 0.6180691\ttotal: 822ms\tremaining: 595ms\n",
      "58:\tlearn: 0.6180690\ttotal: 836ms\tremaining: 581ms\n",
      "59:\tlearn: 0.6180690\ttotal: 850ms\tremaining: 566ms\n",
      "60:\tlearn: 0.6180690\ttotal: 865ms\tremaining: 553ms\n",
      "61:\tlearn: 0.6180690\ttotal: 878ms\tremaining: 538ms\n",
      "62:\tlearn: 0.6180690\ttotal: 892ms\tremaining: 524ms\n",
      "63:\tlearn: 0.6180690\ttotal: 907ms\tremaining: 510ms\n",
      "64:\tlearn: 0.6180690\ttotal: 922ms\tremaining: 496ms\n",
      "65:\tlearn: 0.6180690\ttotal: 936ms\tremaining: 482ms\n",
      "66:\tlearn: 0.6180690\ttotal: 951ms\tremaining: 468ms\n",
      "67:\tlearn: 0.6180690\ttotal: 966ms\tremaining: 455ms\n",
      "68:\tlearn: 0.6180690\ttotal: 981ms\tremaining: 441ms\n",
      "69:\tlearn: 0.6180690\ttotal: 996ms\tremaining: 427ms\n",
      "70:\tlearn: 0.6180689\ttotal: 1.01s\tremaining: 413ms\n",
      "71:\tlearn: 0.6180689\ttotal: 1.03s\tremaining: 400ms\n",
      "72:\tlearn: 0.6180689\ttotal: 1.04s\tremaining: 386ms\n",
      "73:\tlearn: 0.6180689\ttotal: 1.06s\tremaining: 373ms\n",
      "74:\tlearn: 0.6180689\ttotal: 1.08s\tremaining: 359ms\n",
      "75:\tlearn: 0.6180689\ttotal: 1.09s\tremaining: 345ms\n",
      "76:\tlearn: 0.6180689\ttotal: 1.11s\tremaining: 331ms\n",
      "77:\tlearn: 0.6180689\ttotal: 1.12s\tremaining: 317ms\n",
      "78:\tlearn: 0.6180689\ttotal: 1.14s\tremaining: 303ms\n",
      "79:\tlearn: 0.6180689\ttotal: 1.16s\tremaining: 289ms\n",
      "80:\tlearn: 0.6180689\ttotal: 1.17s\tremaining: 274ms\n",
      "81:\tlearn: 0.6180688\ttotal: 1.18s\tremaining: 260ms\n",
      "82:\tlearn: 0.6180688\ttotal: 1.2s\tremaining: 246ms\n",
      "83:\tlearn: 0.6180688\ttotal: 1.21s\tremaining: 231ms\n",
      "84:\tlearn: 0.6180688\ttotal: 1.23s\tremaining: 216ms\n",
      "85:\tlearn: 0.6180688\ttotal: 1.24s\tremaining: 202ms\n",
      "86:\tlearn: 0.6180688\ttotal: 1.26s\tremaining: 188ms\n",
      "87:\tlearn: 0.6180688\ttotal: 1.27s\tremaining: 174ms\n",
      "88:\tlearn: 0.6180688\ttotal: 1.29s\tremaining: 159ms\n",
      "89:\tlearn: 0.6180688\ttotal: 1.3s\tremaining: 145ms\n",
      "90:\tlearn: 0.6180688\ttotal: 1.32s\tremaining: 130ms\n",
      "91:\tlearn: 0.6180688\ttotal: 1.33s\tremaining: 116ms\n",
      "92:\tlearn: 0.6180688\ttotal: 1.35s\tremaining: 101ms\n",
      "93:\tlearn: 0.6180688\ttotal: 1.36s\tremaining: 86.8ms\n",
      "94:\tlearn: 0.6180688\ttotal: 1.37s\tremaining: 72.3ms\n",
      "95:\tlearn: 0.6180688\ttotal: 1.39s\tremaining: 57.9ms\n",
      "96:\tlearn: 0.6180688\ttotal: 1.4s\tremaining: 43.4ms\n",
      "97:\tlearn: 0.6180688\ttotal: 1.42s\tremaining: 28.9ms\n",
      "98:\tlearn: 0.6180687\ttotal: 1.43s\tremaining: 14.5ms\n",
      "99:\tlearn: 0.6180687\ttotal: 1.45s\tremaining: 0us\n"
     ]
    },
    {
     "name": "stderr",
     "output_type": "stream",
     "text": [
      "C:\\Users\\asus\\AppData\\Local\\Temp\\ipykernel_16188\\3961301191.py:9: FutureWarning: The frame.append method is deprecated and will be removed from pandas in a future version. Use pandas.concat instead.\n",
      "  results = results.append({\"Model\":    model_name,\n"
     ]
    },
    {
     "name": "stdout",
     "output_type": "stream",
     "text": [
      "            Model   Accuracy   Bal Acc.      Time\n",
      "1   Decision Tree  66.351924  66.399428  0.049955\n",
      "2     Extra Trees  66.351924  66.399428  2.472003\n",
      "3   Random Forest  66.351924  66.399428  3.088439\n",
      "4        AdaBoost  66.351924  66.399428  3.842997\n",
      "5         Skl GBM  66.351924  66.399428  3.874001\n",
      "6     Skl HistGBM  66.351924  66.399428  1.183005\n",
      "7         XGBoost  66.351924  66.399428  1.007999\n",
      "8        LightGBM  66.351924  66.399428  0.605996\n",
      "9        CatBoost  66.351924  66.399428  1.775040\n",
      "10        Log_reg  66.255901  65.866868  0.224005\n"
     ]
    },
    {
     "name": "stderr",
     "output_type": "stream",
     "text": [
      "C:\\Users\\asus\\AppData\\Local\\Temp\\ipykernel_16188\\3961301191.py:9: FutureWarning: The frame.append method is deprecated and will be removed from pandas in a future version. Use pandas.concat instead.\n",
      "  results = results.append({\"Model\":    model_name,\n"
     ]
    }
   ],
   "source": [
    "for model_name, model in classifiers.items():\n",
    "\n",
    "    start_time = time.time()\n",
    "    model.fit(x_train, y_train)\n",
    "    total_time = time.time() - start_time\n",
    "        \n",
    "    pred = model.predict(x_test)\n",
    "    \n",
    "    results = results.append({\"Model\":    model_name,\n",
    "                              \"Accuracy\": accuracy_score(y_test, pred)*100,\n",
    "                              \"Bal Acc.\": balanced_accuracy_score(y_test, pred)*100,\n",
    "                              \"Time\":     total_time},\n",
    "                              ignore_index=True)\n",
    "\n",
    "results_ord = results.sort_values(by=['Accuracy'], ascending=False, ignore_index=True)\n",
    "results_ord.index += 1 \n",
    "print(results_ord)"
   ]
  },
  {
   "cell_type": "code",
   "execution_count": 199,
   "metadata": {},
   "outputs": [],
   "source": [
    "clf_tree = DecisionTreeClassifier()\n",
    "clf_log = LogisticRegression()"
   ]
  },
  {
   "cell_type": "code",
   "execution_count": 200,
   "metadata": {},
   "outputs": [
    {
     "data": {
      "text/plain": [
       "LogisticRegression()"
      ]
     },
     "execution_count": 200,
     "metadata": {},
     "output_type": "execute_result"
    }
   ],
   "source": [
    "clf_tree.fit(x_train, y_train)\n",
    "clf_log.fit(x_train, y_train)"
   ]
  },
  {
   "cell_type": "code",
   "execution_count": 201,
   "metadata": {},
   "outputs": [],
   "source": [
    "score1 = clf_tree.predict_proba(x_test)[:,1]\n",
    "score2 = clf_log.predict_proba(x_test)[:,1]"
   ]
  },
  {
   "cell_type": "code",
   "execution_count": 202,
   "metadata": {},
   "outputs": [],
   "source": [
    "fpr1, tpr1, threshold1 = roc_curve(y_test, score1)\n",
    "fpr2, tpr2, threshold2 = roc_curve(y_test, score2)"
   ]
  },
  {
   "cell_type": "code",
   "execution_count": 205,
   "metadata": {},
   "outputs": [
    {
     "name": "stdout",
     "output_type": "stream",
     "text": [
      "AUC value for DecisionTree:  0.7059362102960884\n",
      "AUC value for Logistic Regression:  0.7054389509229186\n"
     ]
    }
   ],
   "source": [
    "print('AUC value for DecisionTree: ', roc_auc_score(y_test, score1))\n",
    "print('AUC value for Logistic Regression: ', roc_auc_score(y_test, score2))"
   ]
  },
  {
   "cell_type": "code",
   "execution_count": 208,
   "metadata": {},
   "outputs": [
    {
     "data": {
      "image/png": "[encoded data removed]",
      "text/plain": [
       "<Figure size 720x720 with 1 Axes>"
      ]
     },
     "metadata": {
      "needs_background": "light"
     },
     "output_type": "display_data"
    },
    {
     "data": {
      "image/png": "[encoded data removed]",
      "text/plain": [
       "<Figure size 720x720 with 1 Axes>"
      ]
     },
     "metadata": {
      "needs_background": "light"
     },
     "output_type": "display_data"
    }
   ],
   "source": [
    "plt.subplots(1, figsize=(10,10))\n",
    "plt.title('Receiver Operating Characteristic - DecisionTree')\n",
    "plt.plot(fpr1, tpr1)\n",
    "plt.plot([0, 1], ls=\"--\")\n",
    "plt.plot([0, 0], [1, 0] , c=\".7\"), plt.plot([1, 1] , c=\".7\")\n",
    "plt.ylabel('True Positive Rate')\n",
    "plt.xlabel('False Positive Rate')\n",
    "\n",
    "plt.savefig('ROC_fig1.png')\n",
    "plt.show()\n",
    "plt.subplots(1, figsize=(10,10))\n",
    "plt.title('Receiver Operating Characteristic - Logistic regression')\n",
    "plt.plot(fpr2, tpr2)\n",
    "plt.plot([0, 1], ls=\"--\")\n",
    "plt.plot([0, 0], [1, 0] , c=\".7\"), plt.plot([1, 1] , c=\".7\")\n",
    "plt.ylabel('True Positive Rate')\n",
    "plt.xlabel('False Positive Rate')\n",
    "\n",
    "plt.savefig('ROC_fig2.png')\n",
    "plt.show()"
   ]
  }
 ],
 "metadata": {
  "kernelspec": {
   "display_name": "Python 3.8.2 ('school')",
   "language": "python",
   "name": "python3"
  },
  "language_info": {
   "codemirror_mode": {
    "name": "ipython",
    "version": 3
   },
   "file_extension": ".py",
   "mimetype": "text/x-python",
   "name": "python",
   "nbconvert_exporter": "python",
   "pygments_lexer": "ipython3",
   "version": "3.8.2"
  },
  "orig_nbformat": 4,
  "vscode": {
   "interpreter": {
    "hash": "e8de584d536580a287382772c60d09c557d9b5746db9e08a994709c7ddb24a4a"
   }
  }
 },
 "nbformat": 4,
 "nbformat_minor": 2
}
